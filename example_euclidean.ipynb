{
 "cells": [
  {
   "cell_type": "code",
   "execution_count": null,
   "metadata": {},
   "outputs": [],
   "source": [
    "import pandas as pd\n",
    "from sklearn.model_selection import train_test_split\n",
    "\n",
    "from gnnad.graphanomaly import GNNAD\n",
    "from gnnad.generate import GenerateGaussian, GenerateAnomaly\n",
    "from gnnad.plot import plot_test_anomalies"
   ]
  },
  {
   "cell_type": "code",
   "execution_count": null,
   "metadata": {},
   "outputs": [],
   "source": [
    "# generate data\n",
    "gengauss = GenerateGaussian()\n",
    "X = gengauss.generate()\n",
    "gengauss.field_plot()\n"
   ]
  },
  {
   "cell_type": "code",
   "execution_count": null,
   "metadata": {},
   "outputs": [],
   "source": [
    "# split train test\n",
    "X_train, X_test = train_test_split(X, shuffle=False)\n",
    "\n",
    "# generate anomalies on test set\n",
    "anoms = GenerateAnomaly(X_test)\n",
    "X_test = anoms.generate(anoms.variability, lam = 3, prop_anom = 0.07, seed=45)\n",
    "X_test = anoms.generate(anoms.drift, lam = 11, prop_anom = 0.07, seed=234)\n",
    "y_test = anoms.get_labels()"
   ]
  },
  {
   "cell_type": "code",
   "execution_count": null,
   "metadata": {},
   "outputs": [],
   "source": [
    "# plot input data\n",
    "plot_test_anomalies(X_test, anoms.ANOMS, fig_cols=4, s=20)\n"
   ]
  },
  {
   "cell_type": "code",
   "execution_count": null,
   "metadata": {},
   "outputs": [],
   "source": [
    "# run model\n",
    "model = GNNAD(threshold_type=\"max_validation\", slide_win=3, topk=5)\n",
    "fitted_model = model.fit(X_train, X_test, y_test)\n"
   ]
  },
  {
   "cell_type": "code",
   "execution_count": null,
   "metadata": {},
   "outputs": [],
   "source": []
  },
  {
   "cell_type": "code",
   "execution_count": null,
   "metadata": {},
   "outputs": [],
   "source": []
  }
 ],
 "metadata": {
  "kernelspec": {
   "display_name": "gdn_old",
   "language": "python",
   "name": "python3"
  },
  "language_info": {
   "codemirror_mode": {
    "name": "ipython",
    "version": 3
   },
   "file_extension": ".py",
   "mimetype": "text/x-python",
   "name": "python",
   "nbconvert_exporter": "python",
   "pygments_lexer": "ipython3",
   "version": "3.11.2"
  },
  "orig_nbformat": 4
 },
 "nbformat": 4,
 "nbformat_minor": 2
}
